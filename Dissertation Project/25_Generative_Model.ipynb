{
  "nbformat": 4,
  "nbformat_minor": 0,
  "metadata": {
    "colab": {
      "name": "25 Generative Model.ipynb",
      "provenance": [],
      "collapsed_sections": []
    },
    "kernelspec": {
      "name": "python3",
      "display_name": "Python 3"
    },
    "language_info": {
      "name": "python"
    }
  },
  "cells": [
    {
      "cell_type": "code",
      "source": [
        "# Setting up google drive \n",
        "from google.colab import drive\n",
        "drive.mount('/content/drive')\n",
        "import sys\n",
        "sys.path.append('/content/drive/MyDrive/Colab Notebooks')"
      ],
      "metadata": {
        "id": "87bvzlVH8tL6",
        "colab": {
          "base_uri": "https://localhost:8080/"
        },
        "outputId": "1667517c-5902-44a4-d008-cfa3ad3a2a0a"
      },
      "execution_count": null,
      "outputs": [
        {
          "output_type": "stream",
          "name": "stdout",
          "text": [
            "Drive already mounted at /content/drive; to attempt to forcibly remount, call drive.mount(\"/content/drive\", force_remount=True).\n"
          ]
        }
      ]
    },
    {
      "cell_type": "code",
      "execution_count": null,
      "metadata": {
        "id": "VaA4R5mm8bK1"
      },
      "outputs": [],
      "source": [
        "import models as models\n",
        "import five_fold_training\n",
        "import torch\n",
        "from torch import nn\n",
        "import torch.utils.data as data_utils\n",
        "from torch.utils.data import DataLoader, ConcatDataset\n",
        "from IPython import display\n",
        "import math\n",
        "import torchvision\n",
        "import numpy as np\n",
        "import pandas as pd\n",
        "from sklearn.model_selection import KFold\n",
        "import matplotlib.pyplot as plt\n",
        "import seaborn as sb\n",
        "import pickle\n",
        "from torch.distributions.multivariate_normal import MultivariateNormal\n",
        "  "
      ]
    },
    {
      "cell_type": "code",
      "source": [
        "\n",
        "\n",
        "full_data_tens_path = '/content/drive/MyDrive/Data/MM_tens_data'\n",
        "full_data_tens = torch.load(full_data_tens_path)"
      ],
      "metadata": {
        "id": "iA6gl791C1Uo"
      },
      "execution_count": null,
      "outputs": []
    },
    {
      "cell_type": "code",
      "source": [
        "path = '/content/drive/MyDrive/Data/MM_tens_data'\n",
        "data = torch.load(path)"
      ],
      "metadata": {
        "id": "fOPgmgenDDNE"
      },
      "execution_count": null,
      "outputs": []
    },
    {
      "cell_type": "code",
      "source": [
        "net25b02 = models.BernoulliVAE2(input_size=204, \n",
        "      hidden_size1=196, \n",
        "      hidden_size2=128, \n",
        "      latent_size=25)\n",
        "path = '/content/drive/MyDrive/Data/VAE25_beta0.2_batch128_fold3'\n",
        "net25b02.load_state_dict(torch.load(path))\n",
        "\n"
      ],
      "metadata": {
        "id": "DqzWmtNGCUxz",
        "colab": {
          "base_uri": "https://localhost:8080/"
        },
        "outputId": "29b0edfc-03bb-4e4d-ed23-ce75ba08e273"
      },
      "execution_count": null,
      "outputs": [
        {
          "output_type": "execute_result",
          "data": {
            "text/plain": [
              "<All keys matched successfully>"
            ]
          },
          "metadata": {},
          "execution_count": 32
        }
      ]
    },
    {
      "cell_type": "code",
      "source": [
        "\n"
      ],
      "metadata": {
        "id": "M2ArtXE_EZQc"
      },
      "execution_count": null,
      "outputs": []
    },
    {
      "cell_type": "code",
      "source": [
        "z, mu_e, logvar_e, std = net25b02.encode(full_data_tens)"
      ],
      "metadata": {
        "id": "dIg3Qo-OSH2N"
      },
      "execution_count": null,
      "outputs": []
    },
    {
      "cell_type": "code",
      "source": [
        "mean = z.mean(axis=0)\n",
        "print(mean)\n",
        "stdev = z.std(axis=0)\n",
        "print(stdev)\n",
        "\n",
        "\n",
        "\n",
        "\n"
      ],
      "metadata": {
        "colab": {
          "base_uri": "https://localhost:8080/"
        },
        "id": "b0Jln_tdlVul",
        "outputId": "a48cb94e-2af7-49a0-b6fa-5643983afaf1"
      },
      "execution_count": null,
      "outputs": [
        {
          "output_type": "stream",
          "name": "stdout",
          "text": [
            "tensor([-0.0240,  0.0213,  0.0792, -0.0253,  0.0361,  0.0245, -0.0112,  0.0078,\n",
            "        -0.0046,  0.0012,  0.0228,  0.0058,  0.0049, -0.0260, -0.0158, -0.0338,\n",
            "        -0.0373, -0.0475,  0.0673,  0.0056,  0.0199,  0.0095,  0.0158, -0.0317,\n",
            "        -0.0058], grad_fn=<MeanBackward1>)\n",
            "tensor([0.9737, 1.0102, 1.0071, 1.0021, 1.0328, 0.9970, 0.9889, 1.0302, 0.9910,\n",
            "        1.0032, 0.9923, 0.9735, 1.0468, 1.0338, 0.9991, 1.0043, 1.1081, 0.9922,\n",
            "        1.0081, 0.9928, 0.9955, 1.0068, 1.0169, 1.0508, 0.9900],\n",
            "       grad_fn=<StdBackward0>)\n"
          ]
        }
      ]
    },
    {
      "cell_type": "code",
      "source": [],
      "metadata": {
        "colab": {
          "base_uri": "https://localhost:8080/"
        },
        "id": "Xjq99cRIl1E6",
        "outputId": "af888407-c6fe-42e0-9b21-03cad348d93d"
      },
      "execution_count": null,
      "outputs": [
        {
          "output_type": "execute_result",
          "data": {
            "text/plain": [
              "tensor([-1.8665,  0.9868, -0.2071, -0.5763,  1.3356,  0.3262,  0.4814, -2.0291,\n",
              "         0.2848, -0.5430,  1.6347, -0.5288, -0.2083, -0.6563, -0.8710, -0.4869,\n",
              "         1.6406, -1.6940,  1.6110,  0.7124, -0.4539,  0.3215,  0.5525, -0.4677,\n",
              "        -0.7799], grad_fn=<NormalBackward3>)"
            ]
          },
          "metadata": {},
          "execution_count": 59
        }
      ]
    },
    {
      "cell_type": "code",
      "source": [
        "gen_data = np.zeros(shape=(40469, 204))\n",
        "gen_latents = np.zeros(shape=(40469, 25))\n",
        "net25b02.eval()\n",
        "for i in range(40469):\n",
        "  rand_inp = torch.normal(mean=mean, std=stdev)\n",
        "  gen_latents[i] = rand_inp.detach().numpy() \n",
        "  #print('rand_inp = ', rand_inp)\n",
        "\n",
        "  with torch.no_grad():\n",
        "    synth_data = net25b02.decode(rand_inp).numpy()\n",
        "    synth_data = synth_data.round()\n",
        "    gen_data[i] = synth_data\n",
        "  #print(\"\\nSynthetic generated data: \")\n",
        "  #print(sd.round()) \n",
        "\n"
      ],
      "metadata": {
        "id": "RSL0rnIhi8kt"
      },
      "execution_count": null,
      "outputs": []
    },
    {
      "cell_type": "code",
      "source": [
        "\n"
      ],
      "metadata": {
        "colab": {
          "base_uri": "https://localhost:8080/"
        },
        "id": "a1K4Uhydlklq",
        "outputId": "ae25598b-44d5-4dd2-9c55-8764ec66f0c5"
      },
      "execution_count": null,
      "outputs": [
        {
          "output_type": "stream",
          "name": "stdout",
          "text": [
            "[[ 1.09261715 -1.26220179 -1.61260986 ... -2.1862452   0.53135592\n",
            "   0.49387935]\n",
            " [ 0.92892164 -0.27572775  0.64086485 ...  0.1615043   0.79686242\n",
            "   0.65418398]\n",
            " [ 0.07701731  0.87327027 -0.7623744  ... -0.67357844 -0.38631046\n",
            "   1.33188105]\n",
            " ...\n",
            " [ 0.54881907 -0.31107366  0.71368396 ... -0.2170483   2.21058893\n",
            "  -2.10989785]\n",
            " [ 0.4797031   0.02307747  0.13443999 ...  2.48850703 -0.98645109\n",
            "   1.84127855]\n",
            " [-1.35192955  2.24970341 -0.34134066 ... -0.60033435  0.29601717\n",
            "  -0.46649024]]\n",
            "[[0. 0. 0. ... 0. 0. 0.]\n",
            " [0. 0. 1. ... 0. 0. 0.]\n",
            " [0. 0. 0. ... 0. 0. 0.]\n",
            " ...\n",
            " [0. 0. 0. ... 0. 0. 0.]\n",
            " [0. 0. 0. ... 0. 0. 0.]\n",
            " [0. 0. 0. ... 0. 0. 0.]]\n"
          ]
        }
      ]
    },
    {
      "cell_type": "code",
      "source": [
        "unique, counts = np.unique(gen_data, return_counts=True)\n",
        "print(unique)\n",
        "counts\n"
      ],
      "metadata": {
        "colab": {
          "base_uri": "https://localhost:8080/"
        },
        "id": "Q9oYD-Wy0Dhv",
        "outputId": "03842f36-0856-4762-b907-180ffc075251"
      },
      "execution_count": null,
      "outputs": [
        {
          "output_type": "stream",
          "name": "stdout",
          "text": [
            "[0. 1.]\n"
          ]
        },
        {
          "output_type": "execute_result",
          "data": {
            "text/plain": [
              "array([7772864,  482812])"
            ]
          },
          "metadata": {},
          "execution_count": 66
        }
      ]
    },
    {
      "cell_type": "code",
      "source": [
        "\n",
        "#gen_out = net1_50.decode(gen_latents)\n",
        "#gen_data = gen_out.round()"
      ],
      "metadata": {
        "id": "V3aBUgLzTrD_"
      },
      "execution_count": null,
      "outputs": []
    },
    {
      "cell_type": "code",
      "source": [
        "#gen_data"
      ],
      "metadata": {
        "id": "lNkqv4ELJIuR"
      },
      "execution_count": null,
      "outputs": []
    },
    {
      "cell_type": "code",
      "source": [
        "MM_real_lat04 = z\n",
        "path = '/content/drive/MyDrive/Data/MM_real_latents_lat25_beta0.2'\n",
        "torch.save(MM_real_lat04, path)"
      ],
      "metadata": {
        "id": "V6PeoQ_2MDLN"
      },
      "execution_count": null,
      "outputs": []
    },
    {
      "cell_type": "code",
      "source": [
        "MM_gen_data04 = gen_data\n",
        "path = '/content/drive/MyDrive/Data/MM_gen_data_lat25_beta0.2'\n",
        "torch.save(MM_gen_data04, path)"
      ],
      "metadata": {
        "id": "-i0fDWhfQ-iz"
      },
      "execution_count": null,
      "outputs": []
    },
    {
      "cell_type": "code",
      "source": [
        "MM_gen_lat04 = gen_latents\n",
        "path = '/content/drive/MyDrive/Data/MM_gen_latents_lat25_beta0.2'\n",
        "torch.save(MM_gen_lat04, path)"
      ],
      "metadata": {
        "id": "lwZRcFbR9u3W"
      },
      "execution_count": null,
      "outputs": []
    }
  ]
}
