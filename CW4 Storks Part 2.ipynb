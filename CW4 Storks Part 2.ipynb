{
 "cells": [
  {
   "cell_type": "code",
   "execution_count": 1,
   "id": "6635d1e9-6d41-4b97-a0c1-b558578cb16c",
   "metadata": {},
   "outputs": [],
   "source": [
    "import pandas as pd\n",
    "import numpy as np\n",
    "import matplotlib.pyplot as plt\n",
    "from sklearn.linear_model import LinearRegression\n",
    "from sklearn.metrics import mean_squared_error\n",
    "import scipy.stats as stats\n",
    "from sklearn.utils import resample\n",
    "\n",
    "%matplotlib inline"
   ]
  },
  {
   "cell_type": "markdown",
   "id": "e14793ac-b0d1-408d-b515-0d25e9d4d590",
   "metadata": {
    "tags": []
   },
   "source": [
    "# ECS7024 Statistics for Artificial Intelligence and Data Science\n",
    "\n",
    "## Coursework 4\n",
    "\n",
    "This notebook will further analyse data used by Matthews (2000) which has data on 17 countries including area, population, birth rate, number of storks in the area and percentage of the area suitable for storks. More specifically it will firstly compare two regression models to explain the variability in the number of births and secondly it will compare the performance of two regression models to predict the number of storks.\n",
    "\n",
    "\n",
    "\n",
    "**Table of Contents**\n",
    "\n",
    "\n",
    " 1. Section 1: Data Preperation\n",
    "     1. Introducing the Data Set\n",
    "     1. Deriving Additional Variables\n",
    "\n",
    "&NewLine;\n",
    "\n",
    " 2. Section 2: Variability in the Number of Births\n",
    "     1. Regression Model 1: Storks Predictor\n",
    "     1. Regression Model 2: Population Size Predictor\n",
    "     1. Bootstrap: Estimate Distribution of the Difference in the R2 parameter.\n",
    "\n",
    "&NewLine;\n",
    "\n",
    " 3. Section 3: Predicting the Number of Storks\n",
    "     1. Regression Model 1: Land Area Predictor\n",
    "     1. Regression Model 2: Suitable Area and Population Density Predictors\n",
    "     1. Bootstrap: Estimate Distribution of the Difference in the RMSE parameter.\n",
    "     1. Conclusion\n",
    "\n",
    "&NewLine;\n",
    "\n",
    " 4. Section 4: References\n",
    "\n",
    "\n"
   ]
  },
  {
   "cell_type": "markdown",
   "id": "63b51fe8-ac4f-48cf-80b4-1a4511b4b982",
   "metadata": {},
   "source": [
    "## Section 1: Data Preperation"
   ]
  },
  {
   "cell_type": "markdown",
   "id": "b3941e44-b0b6-4c87-ab6d-c31e4773f7c8",
   "metadata": {},
   "source": [
    "### 1. A. Introducing the Data Set\n",
    "\n"
   ]
  },
  {
   "cell_type": "markdown",
   "id": "e56ab2d0-d4cb-4b8c-b9d5-527c989d5f9e",
   "metadata": {},
   "source": [
    "Below the data has been loaded into a data frame 'Storks'."
   ]
  },
  {
   "cell_type": "code",
   "execution_count": 2,
   "id": "a23ba47d-79fc-4e8c-92bd-77590bee1107",
   "metadata": {},
   "outputs": [
    {
     "data": {
      "text/html": [
       "<div>\n",
       "<style scoped>\n",
       "    .dataframe tbody tr th:only-of-type {\n",
       "        vertical-align: middle;\n",
       "    }\n",
       "\n",
       "    .dataframe tbody tr th {\n",
       "        vertical-align: top;\n",
       "    }\n",
       "\n",
       "    .dataframe thead th {\n",
       "        text-align: right;\n",
       "    }\n",
       "</style>\n",
       "<table border=\"1\" class=\"dataframe\">\n",
       "  <thead>\n",
       "    <tr style=\"text-align: right;\">\n",
       "      <th></th>\n",
       "      <th>Country</th>\n",
       "      <th>Area</th>\n",
       "      <th>Storks</th>\n",
       "      <th>Humans</th>\n",
       "      <th>BirthRate</th>\n",
       "      <th>SuitableAreaPercent</th>\n",
       "    </tr>\n",
       "  </thead>\n",
       "  <tbody>\n",
       "    <tr>\n",
       "      <th>0</th>\n",
       "      <td>Albania</td>\n",
       "      <td>28750</td>\n",
       "      <td>100</td>\n",
       "      <td>3.2</td>\n",
       "      <td>83</td>\n",
       "      <td>55.68</td>\n",
       "    </tr>\n",
       "    <tr>\n",
       "      <th>1</th>\n",
       "      <td>Austria</td>\n",
       "      <td>83860</td>\n",
       "      <td>300</td>\n",
       "      <td>7.6</td>\n",
       "      <td>87</td>\n",
       "      <td>38.34</td>\n",
       "    </tr>\n",
       "    <tr>\n",
       "      <th>2</th>\n",
       "      <td>Belgium</td>\n",
       "      <td>30520</td>\n",
       "      <td>1</td>\n",
       "      <td>9.9</td>\n",
       "      <td>118</td>\n",
       "      <td>65.93</td>\n",
       "    </tr>\n",
       "    <tr>\n",
       "      <th>3</th>\n",
       "      <td>Bulgaria</td>\n",
       "      <td>111000</td>\n",
       "      <td>5000</td>\n",
       "      <td>9.0</td>\n",
       "      <td>117</td>\n",
       "      <td>57.99</td>\n",
       "    </tr>\n",
       "    <tr>\n",
       "      <th>4</th>\n",
       "      <td>Denmark</td>\n",
       "      <td>43100</td>\n",
       "      <td>9</td>\n",
       "      <td>5.1</td>\n",
       "      <td>59</td>\n",
       "      <td>81.46</td>\n",
       "    </tr>\n",
       "    <tr>\n",
       "      <th>5</th>\n",
       "      <td>France</td>\n",
       "      <td>544000</td>\n",
       "      <td>140</td>\n",
       "      <td>56.0</td>\n",
       "      <td>774</td>\n",
       "      <td>58.47</td>\n",
       "    </tr>\n",
       "    <tr>\n",
       "      <th>6</th>\n",
       "      <td>Germany</td>\n",
       "      <td>357000</td>\n",
       "      <td>3300</td>\n",
       "      <td>78.0</td>\n",
       "      <td>901</td>\n",
       "      <td>59.81</td>\n",
       "    </tr>\n",
       "    <tr>\n",
       "      <th>7</th>\n",
       "      <td>Greece</td>\n",
       "      <td>132000</td>\n",
       "      <td>2500</td>\n",
       "      <td>10.0</td>\n",
       "      <td>106</td>\n",
       "      <td>47.31</td>\n",
       "    </tr>\n",
       "    <tr>\n",
       "      <th>8</th>\n",
       "      <td>Holland</td>\n",
       "      <td>41900</td>\n",
       "      <td>4</td>\n",
       "      <td>15.0</td>\n",
       "      <td>188</td>\n",
       "      <td>70.96</td>\n",
       "    </tr>\n",
       "    <tr>\n",
       "      <th>9</th>\n",
       "      <td>Hungary</td>\n",
       "      <td>93000</td>\n",
       "      <td>5000</td>\n",
       "      <td>11.0</td>\n",
       "      <td>124</td>\n",
       "      <td>75.86</td>\n",
       "    </tr>\n",
       "    <tr>\n",
       "      <th>10</th>\n",
       "      <td>Italy</td>\n",
       "      <td>301280</td>\n",
       "      <td>5</td>\n",
       "      <td>57.0</td>\n",
       "      <td>551</td>\n",
       "      <td>60.30</td>\n",
       "    </tr>\n",
       "    <tr>\n",
       "      <th>11</th>\n",
       "      <td>Poland</td>\n",
       "      <td>312680</td>\n",
       "      <td>30000</td>\n",
       "      <td>38.0</td>\n",
       "      <td>610</td>\n",
       "      <td>64.09</td>\n",
       "    </tr>\n",
       "    <tr>\n",
       "      <th>12</th>\n",
       "      <td>Portugal</td>\n",
       "      <td>92390</td>\n",
       "      <td>1500</td>\n",
       "      <td>10.0</td>\n",
       "      <td>120</td>\n",
       "      <td>52.51</td>\n",
       "    </tr>\n",
       "    <tr>\n",
       "      <th>13</th>\n",
       "      <td>Romania</td>\n",
       "      <td>237500</td>\n",
       "      <td>5000</td>\n",
       "      <td>23.0</td>\n",
       "      <td>367</td>\n",
       "      <td>62.49</td>\n",
       "    </tr>\n",
       "    <tr>\n",
       "      <th>14</th>\n",
       "      <td>Spain</td>\n",
       "      <td>504750</td>\n",
       "      <td>8000</td>\n",
       "      <td>39.0</td>\n",
       "      <td>439</td>\n",
       "      <td>59.57</td>\n",
       "    </tr>\n",
       "    <tr>\n",
       "      <th>15</th>\n",
       "      <td>Switzerland</td>\n",
       "      <td>41290</td>\n",
       "      <td>150</td>\n",
       "      <td>6.7</td>\n",
       "      <td>82</td>\n",
       "      <td>43.19</td>\n",
       "    </tr>\n",
       "    <tr>\n",
       "      <th>16</th>\n",
       "      <td>Turkey</td>\n",
       "      <td>779450</td>\n",
       "      <td>25000</td>\n",
       "      <td>56.0</td>\n",
       "      <td>1576</td>\n",
       "      <td>65.97</td>\n",
       "    </tr>\n",
       "  </tbody>\n",
       "</table>\n",
       "</div>"
      ],
      "text/plain": [
       "        Country    Area  Storks  Humans  BirthRate  SuitableAreaPercent\n",
       "0       Albania   28750     100     3.2         83                55.68\n",
       "1       Austria   83860     300     7.6         87                38.34\n",
       "2       Belgium   30520       1     9.9        118                65.93\n",
       "3      Bulgaria  111000    5000     9.0        117                57.99\n",
       "4       Denmark   43100       9     5.1         59                81.46\n",
       "5        France  544000     140    56.0        774                58.47\n",
       "6       Germany  357000    3300    78.0        901                59.81\n",
       "7        Greece  132000    2500    10.0        106                47.31\n",
       "8       Holland   41900       4    15.0        188                70.96\n",
       "9       Hungary   93000    5000    11.0        124                75.86\n",
       "10        Italy  301280       5    57.0        551                60.30\n",
       "11       Poland  312680   30000    38.0        610                64.09\n",
       "12     Portugal   92390    1500    10.0        120                52.51\n",
       "13      Romania  237500    5000    23.0        367                62.49\n",
       "14        Spain  504750    8000    39.0        439                59.57\n",
       "15  Switzerland   41290     150     6.7         82                43.19\n",
       "16       Turkey  779450   25000    56.0       1576                65.97"
      ]
     },
     "execution_count": 2,
     "metadata": {},
     "output_type": "execute_result"
    }
   ],
   "source": [
    "Storks = pd.read_csv('storks.csv')\n",
    "Storks"
   ]
  },
  {
   "cell_type": "markdown",
   "id": "bdf550b7-b114-4908-afbc-915e21bb87b6",
   "metadata": {},
   "source": [
    "### 1. B. Deriving Additional Variables\n",
    "\n",
    "For the analysis the variables need to be in terms of consistent units for them to be comparable.\n",
    "\n",
    "* In the original data the 'Humans' value is $* 10^6$, therefore for a true population of people in each country, for every row the 'Humans' value is multiplied by 1000000 and added to a new column 'PopulationSize'.\n",
    "\n",
    "* This analysis will also require a population density value. To derive this, in every row the 'PopulationSize' value is divided by the 'Area' value and added to a new column 'PopulationDensity' which shows population per square Km.\n",
    "\n",
    "* In the original data the 'BirthRate' value is $ * 10^3$, therefore for a true birth rate per year for each country, for every row the 'BirthRate' value is multiplied by 1000 and added to a new column 'BirthRateActual'.\n",
    "\n",
    "* In the data, suitable area is given as a percentage. For it to be consistent with the other data it needs to be in square Km. This can be done by dividing 'SuitableAreaPercent' for each row by 100 and then multiplying this value by that row's 'Area' value. This value is then added to a new column 'SuitableArea'.\n",
    "\n",
    "The resulting data frame can be viewed below in a new data frame 'Storks2'."
   ]
  },
  {
   "cell_type": "code",
   "execution_count": 3,
   "id": "5b5f23a6-c172-48b3-8d75-1ee5dc3d80f3",
   "metadata": {},
   "outputs": [
    {
     "data": {
      "text/html": [
       "<div>\n",
       "<style scoped>\n",
       "    .dataframe tbody tr th:only-of-type {\n",
       "        vertical-align: middle;\n",
       "    }\n",
       "\n",
       "    .dataframe tbody tr th {\n",
       "        vertical-align: top;\n",
       "    }\n",
       "\n",
       "    .dataframe thead th {\n",
       "        text-align: right;\n",
       "    }\n",
       "</style>\n",
       "<table border=\"1\" class=\"dataframe\">\n",
       "  <thead>\n",
       "    <tr style=\"text-align: right;\">\n",
       "      <th></th>\n",
       "      <th>Country</th>\n",
       "      <th>Area</th>\n",
       "      <th>Storks</th>\n",
       "      <th>Humans</th>\n",
       "      <th>BirthRate</th>\n",
       "      <th>SuitableAreaPercent</th>\n",
       "      <th>PopulationSize</th>\n",
       "      <th>PopulationDensity</th>\n",
       "      <th>BirthRateActual</th>\n",
       "      <th>SuitableArea</th>\n",
       "    </tr>\n",
       "  </thead>\n",
       "  <tbody>\n",
       "    <tr>\n",
       "      <th>0</th>\n",
       "      <td>Albania</td>\n",
       "      <td>28750</td>\n",
       "      <td>100</td>\n",
       "      <td>3.2</td>\n",
       "      <td>83</td>\n",
       "      <td>55.68</td>\n",
       "      <td>3200000.0</td>\n",
       "      <td>111.304348</td>\n",
       "      <td>83000</td>\n",
       "      <td>16008.000</td>\n",
       "    </tr>\n",
       "    <tr>\n",
       "      <th>1</th>\n",
       "      <td>Austria</td>\n",
       "      <td>83860</td>\n",
       "      <td>300</td>\n",
       "      <td>7.6</td>\n",
       "      <td>87</td>\n",
       "      <td>38.34</td>\n",
       "      <td>7600000.0</td>\n",
       "      <td>90.627236</td>\n",
       "      <td>87000</td>\n",
       "      <td>32151.924</td>\n",
       "    </tr>\n",
       "    <tr>\n",
       "      <th>2</th>\n",
       "      <td>Belgium</td>\n",
       "      <td>30520</td>\n",
       "      <td>1</td>\n",
       "      <td>9.9</td>\n",
       "      <td>118</td>\n",
       "      <td>65.93</td>\n",
       "      <td>9900000.0</td>\n",
       "      <td>324.377457</td>\n",
       "      <td>118000</td>\n",
       "      <td>20121.836</td>\n",
       "    </tr>\n",
       "    <tr>\n",
       "      <th>3</th>\n",
       "      <td>Bulgaria</td>\n",
       "      <td>111000</td>\n",
       "      <td>5000</td>\n",
       "      <td>9.0</td>\n",
       "      <td>117</td>\n",
       "      <td>57.99</td>\n",
       "      <td>9000000.0</td>\n",
       "      <td>81.081081</td>\n",
       "      <td>117000</td>\n",
       "      <td>64368.900</td>\n",
       "    </tr>\n",
       "    <tr>\n",
       "      <th>4</th>\n",
       "      <td>Denmark</td>\n",
       "      <td>43100</td>\n",
       "      <td>9</td>\n",
       "      <td>5.1</td>\n",
       "      <td>59</td>\n",
       "      <td>81.46</td>\n",
       "      <td>5100000.0</td>\n",
       "      <td>118.329466</td>\n",
       "      <td>59000</td>\n",
       "      <td>35109.260</td>\n",
       "    </tr>\n",
       "    <tr>\n",
       "      <th>5</th>\n",
       "      <td>France</td>\n",
       "      <td>544000</td>\n",
       "      <td>140</td>\n",
       "      <td>56.0</td>\n",
       "      <td>774</td>\n",
       "      <td>58.47</td>\n",
       "      <td>56000000.0</td>\n",
       "      <td>102.941176</td>\n",
       "      <td>774000</td>\n",
       "      <td>318076.800</td>\n",
       "    </tr>\n",
       "    <tr>\n",
       "      <th>6</th>\n",
       "      <td>Germany</td>\n",
       "      <td>357000</td>\n",
       "      <td>3300</td>\n",
       "      <td>78.0</td>\n",
       "      <td>901</td>\n",
       "      <td>59.81</td>\n",
       "      <td>78000000.0</td>\n",
       "      <td>218.487395</td>\n",
       "      <td>901000</td>\n",
       "      <td>213521.700</td>\n",
       "    </tr>\n",
       "    <tr>\n",
       "      <th>7</th>\n",
       "      <td>Greece</td>\n",
       "      <td>132000</td>\n",
       "      <td>2500</td>\n",
       "      <td>10.0</td>\n",
       "      <td>106</td>\n",
       "      <td>47.31</td>\n",
       "      <td>10000000.0</td>\n",
       "      <td>75.757576</td>\n",
       "      <td>106000</td>\n",
       "      <td>62449.200</td>\n",
       "    </tr>\n",
       "    <tr>\n",
       "      <th>8</th>\n",
       "      <td>Holland</td>\n",
       "      <td>41900</td>\n",
       "      <td>4</td>\n",
       "      <td>15.0</td>\n",
       "      <td>188</td>\n",
       "      <td>70.96</td>\n",
       "      <td>15000000.0</td>\n",
       "      <td>357.995227</td>\n",
       "      <td>188000</td>\n",
       "      <td>29732.240</td>\n",
       "    </tr>\n",
       "    <tr>\n",
       "      <th>9</th>\n",
       "      <td>Hungary</td>\n",
       "      <td>93000</td>\n",
       "      <td>5000</td>\n",
       "      <td>11.0</td>\n",
       "      <td>124</td>\n",
       "      <td>75.86</td>\n",
       "      <td>11000000.0</td>\n",
       "      <td>118.279570</td>\n",
       "      <td>124000</td>\n",
       "      <td>70549.800</td>\n",
       "    </tr>\n",
       "    <tr>\n",
       "      <th>10</th>\n",
       "      <td>Italy</td>\n",
       "      <td>301280</td>\n",
       "      <td>5</td>\n",
       "      <td>57.0</td>\n",
       "      <td>551</td>\n",
       "      <td>60.30</td>\n",
       "      <td>57000000.0</td>\n",
       "      <td>189.192777</td>\n",
       "      <td>551000</td>\n",
       "      <td>181671.840</td>\n",
       "    </tr>\n",
       "    <tr>\n",
       "      <th>11</th>\n",
       "      <td>Poland</td>\n",
       "      <td>312680</td>\n",
       "      <td>30000</td>\n",
       "      <td>38.0</td>\n",
       "      <td>610</td>\n",
       "      <td>64.09</td>\n",
       "      <td>38000000.0</td>\n",
       "      <td>121.529999</td>\n",
       "      <td>610000</td>\n",
       "      <td>200396.612</td>\n",
       "    </tr>\n",
       "    <tr>\n",
       "      <th>12</th>\n",
       "      <td>Portugal</td>\n",
       "      <td>92390</td>\n",
       "      <td>1500</td>\n",
       "      <td>10.0</td>\n",
       "      <td>120</td>\n",
       "      <td>52.51</td>\n",
       "      <td>10000000.0</td>\n",
       "      <td>108.236822</td>\n",
       "      <td>120000</td>\n",
       "      <td>48513.989</td>\n",
       "    </tr>\n",
       "    <tr>\n",
       "      <th>13</th>\n",
       "      <td>Romania</td>\n",
       "      <td>237500</td>\n",
       "      <td>5000</td>\n",
       "      <td>23.0</td>\n",
       "      <td>367</td>\n",
       "      <td>62.49</td>\n",
       "      <td>23000000.0</td>\n",
       "      <td>96.842105</td>\n",
       "      <td>367000</td>\n",
       "      <td>148413.750</td>\n",
       "    </tr>\n",
       "    <tr>\n",
       "      <th>14</th>\n",
       "      <td>Spain</td>\n",
       "      <td>504750</td>\n",
       "      <td>8000</td>\n",
       "      <td>39.0</td>\n",
       "      <td>439</td>\n",
       "      <td>59.57</td>\n",
       "      <td>39000000.0</td>\n",
       "      <td>77.265973</td>\n",
       "      <td>439000</td>\n",
       "      <td>300679.575</td>\n",
       "    </tr>\n",
       "    <tr>\n",
       "      <th>15</th>\n",
       "      <td>Switzerland</td>\n",
       "      <td>41290</td>\n",
       "      <td>150</td>\n",
       "      <td>6.7</td>\n",
       "      <td>82</td>\n",
       "      <td>43.19</td>\n",
       "      <td>6700000.0</td>\n",
       "      <td>162.266893</td>\n",
       "      <td>82000</td>\n",
       "      <td>17833.151</td>\n",
       "    </tr>\n",
       "    <tr>\n",
       "      <th>16</th>\n",
       "      <td>Turkey</td>\n",
       "      <td>779450</td>\n",
       "      <td>25000</td>\n",
       "      <td>56.0</td>\n",
       "      <td>1576</td>\n",
       "      <td>65.97</td>\n",
       "      <td>56000000.0</td>\n",
       "      <td>71.845532</td>\n",
       "      <td>1576000</td>\n",
       "      <td>514203.165</td>\n",
       "    </tr>\n",
       "  </tbody>\n",
       "</table>\n",
       "</div>"
      ],
      "text/plain": [
       "        Country    Area  Storks  Humans  BirthRate  SuitableAreaPercent  \\\n",
       "0       Albania   28750     100     3.2         83                55.68   \n",
       "1       Austria   83860     300     7.6         87                38.34   \n",
       "2       Belgium   30520       1     9.9        118                65.93   \n",
       "3      Bulgaria  111000    5000     9.0        117                57.99   \n",
       "4       Denmark   43100       9     5.1         59                81.46   \n",
       "5        France  544000     140    56.0        774                58.47   \n",
       "6       Germany  357000    3300    78.0        901                59.81   \n",
       "7        Greece  132000    2500    10.0        106                47.31   \n",
       "8       Holland   41900       4    15.0        188                70.96   \n",
       "9       Hungary   93000    5000    11.0        124                75.86   \n",
       "10        Italy  301280       5    57.0        551                60.30   \n",
       "11       Poland  312680   30000    38.0        610                64.09   \n",
       "12     Portugal   92390    1500    10.0        120                52.51   \n",
       "13      Romania  237500    5000    23.0        367                62.49   \n",
       "14        Spain  504750    8000    39.0        439                59.57   \n",
       "15  Switzerland   41290     150     6.7         82                43.19   \n",
       "16       Turkey  779450   25000    56.0       1576                65.97   \n",
       "\n",
       "    PopulationSize  PopulationDensity  BirthRateActual  SuitableArea  \n",
       "0        3200000.0         111.304348            83000     16008.000  \n",
       "1        7600000.0          90.627236            87000     32151.924  \n",
       "2        9900000.0         324.377457           118000     20121.836  \n",
       "3        9000000.0          81.081081           117000     64368.900  \n",
       "4        5100000.0         118.329466            59000     35109.260  \n",
       "5       56000000.0         102.941176           774000    318076.800  \n",
       "6       78000000.0         218.487395           901000    213521.700  \n",
       "7       10000000.0          75.757576           106000     62449.200  \n",
       "8       15000000.0         357.995227           188000     29732.240  \n",
       "9       11000000.0         118.279570           124000     70549.800  \n",
       "10      57000000.0         189.192777           551000    181671.840  \n",
       "11      38000000.0         121.529999           610000    200396.612  \n",
       "12      10000000.0         108.236822           120000     48513.989  \n",
       "13      23000000.0          96.842105           367000    148413.750  \n",
       "14      39000000.0          77.265973           439000    300679.575  \n",
       "15       6700000.0         162.266893            82000     17833.151  \n",
       "16      56000000.0          71.845532          1576000    514203.165  "
      ]
     },
     "execution_count": 3,
     "metadata": {},
     "output_type": "execute_result"
    }
   ],
   "source": [
    "Storks = pd.read_csv('storks.csv')\n",
    "Storks2 = Storks.assign(PopulationSize = Storks.Humans * 1000000)\n",
    "Storks2 = Storks2.assign(PopulationDensity = Storks2.PopulationSize / Storks2.Area)\n",
    "Storks2 = Storks2.assign(BirthRateActual = Storks2.BirthRate * 1000)\n",
    "Storks2 = Storks2.assign(SuitableArea = Storks2.SuitableAreaPercent/100 * Storks2.Area)\n",
    "Storks2"
   ]
  },
  {
   "cell_type": "markdown",
   "id": "1cfa26bd-11e2-45c8-a1d6-23e1719e62f1",
   "metadata": {},
   "source": [
    "## Section 2: Variability in the Number of Births\n",
    "\n",
    "This section will compare two regression models to explain the variability of the number of births.\n",
    "\n",
    "The predictor of the first model will be pairs of storks and the predictor for the second model will be population size, with the outcome variable for both as birth rate.\n",
    "\n",
    "For a regression analysis to work well, the outcome variable is assumed to be normally distributed, therefore before continuing it is important to view the distribution of the new BirthRateActual variable as this will be the outcome variable. This distribution can be viewed below."
   ]
  },
  {
   "cell_type": "code",
   "execution_count": 4,
   "id": "14f1298c-5929-4f9f-b250-af6dbdf8d37d",
   "metadata": {},
   "outputs": [
    {
     "data": {
      "text/plain": [
       "Text(0.5, 1.0, 'Birth Rate Distribution')"
      ]
     },
     "execution_count": 4,
     "metadata": {},
     "output_type": "execute_result"
    },
    {
     "data": {
      "image/png": "[encoded data removed]",
      "text/plain": [
       "<Figure size 432x288 with 1 Axes>"
      ]
     },
     "metadata": {
      "needs_background": "light"
     },
     "output_type": "display_data"
    }
   ],
   "source": [
    "BirthRateDist = Storks2.loc[:, 'BirthRateActual']\n",
    "fig, at = plt.subplots(1, 1)\n",
    "at.hist(BirthRateDist, bins=10, density=False)\n",
    "_ = at.set_xlabel('Birth Rate')\n",
    "_ = at.set_ylabel('Frequency')\n",
    "at.set_title('Birth Rate Distribution')"
   ]
  },
  {
   "cell_type": "markdown",
   "id": "f89b51dc-d87f-4888-9106-e5954d03acbe",
   "metadata": {},
   "source": [
    "The histogram shows that the Birth Rate distribution is positively skewed. This should be kept in mind when interpreting the results."
   ]
  },
  {
   "cell_type": "markdown",
   "id": "805fe35d-bd0d-4ffe-936f-363ca4f4b04a",
   "metadata": {},
   "source": [
    "### 2. A. Regression Model 1: Storks Predictor"
   ]
  },
  {
   "cell_type": "markdown",
   "id": "d39aae41-4f71-4043-a8aa-4b6700417050",
   "metadata": {},
   "source": [
    "A regression line for the first model is fitted with pairs of storks as the predictor variable and birth rate as the outcome variable. The R2 coefficient, the intercept and the estimated regression coefficient are reported below."
   ]
  },
  {
   "cell_type": "code",
   "execution_count": 5,
   "id": "ca0979f0-7c22-4b08-b72b-3111cdc22977",
   "metadata": {},
   "outputs": [
    {
     "name": "stdout",
     "output_type": "stream",
     "text": [
      "The R2 coefficient of determination is 0.385\n",
      "The intercept is 225028.7\n",
      "Estimated regression coefficient for Storks is 28.79 difference in birth rate rating per pair of storks.\n"
     ]
    }
   ],
   "source": [
    "y = Storks2.BirthRateActual\n",
    "X = np.column_stack(Storks2.Storks)\n",
    "X = X.reshape(-1, 1)\n",
    "reg = LinearRegression().fit(X, y)\n",
    "\n",
    "print('The R2 coefficient of determination is %4.3f' % reg.score(X, y))\n",
    "beta_Storks = reg.coef_\n",
    "\n",
    "print('The intercept is %4.1f' % reg.intercept_)\n",
    "\n",
    "print('Estimated regression coefficient for Storks is %4.2f' % beta_Storks, \n",
    "      'difference in birth rate rating per pair of storks.')"
   ]
  },
  {
   "cell_type": "markdown",
   "id": "aef064a0-3a9c-4ca5-b278-34cf38ddfc6f",
   "metadata": {},
   "source": [
    "The important metric for this analysis is the R2 coefficient of each model as this is what tells us how much of the variance in birth rates can be explained by the predictor variable. In this case 38.5% of the variance in birth rates can be explained by the number of pairs of storks.\n",
    "\n",
    "The regression model can be visualised in the scatter plot below."
   ]
  },
  {
   "cell_type": "code",
   "execution_count": 6,
   "id": "faedaced-7663-4dab-a281-a2ec99dfe05c",
   "metadata": {},
   "outputs": [
    {
     "data": {
      "text/plain": [
       "<matplotlib.legend.Legend at 0x7f5fc07375b0>"
      ]
     },
     "execution_count": 6,
     "metadata": {},
     "output_type": "execute_result"
    },
    {
     "data": {
      "image/png": "[encoded data removed]",
      "text/plain": [
       "<Figure size 1080x720 with 1 Axes>"
      ]
     },
     "metadata": {
      "needs_background": "light"
     },
     "output_type": "display_data"
    }
   ],
   "source": [
    "y_hat = reg.predict(X)\n",
    "fig, a = plt.subplots(1,1,figsize=(15,10))\n",
    "actual_values = a.scatter(X, y,  color='black')\n",
    "a.plot(X, y_hat, color='blue', linewidth=3, label = 'Predicted Values')\n",
    "\n",
    "a.set_xlabel('Stork Pairs')\n",
    "a.set_ylabel('Birth Rate')\n",
    "a.set_title('Regression Model 1: Predicted Birth Rate vs Actual Birth Rate')\n",
    "a.legend([actual_values], ['Actual Values'])"
   ]
  },
  {
   "cell_type": "markdown",
   "id": "b36afbb6-80ad-40cf-a0c5-6abbc2705bc6",
   "metadata": {},
   "source": [
    "### 2. B. Regression Model 2: Population Size Predictor"
   ]
  },
  {
   "cell_type": "markdown",
   "id": "13b30bdf-cb3c-46e0-bd64-9d112d8602fb",
   "metadata": {},
   "source": [
    "A regression line for the second model is fitted with population size as the predictor variable and birth rate as the outcome variable. The R2 coefficient, the intercept and the estimated regression coefficient are reported below."
   ]
  },
  {
   "cell_type": "code",
   "execution_count": 7,
   "id": "ae9c4dac-7122-4f8d-8454-8bee3339ea0a",
   "metadata": {},
   "outputs": [
    {
     "name": "stdout",
     "output_type": "stream",
     "text": [
      "The R2 coefficient of determination is 0.725\n",
      "The intercept is -8445.1\n",
      "Estimated regression coefficient for population size is 0.01 difference in birth rate rating per person.\n"
     ]
    }
   ],
   "source": [
    "y = Storks2.BirthRateActual\n",
    "X2 = np.column_stack(Storks2.PopulationSize)\n",
    "X2 = X2.reshape(-1, 1)\n",
    "reg = LinearRegression().fit(X2, y)\n",
    "\n",
    "print('The R2 coefficient of determination is %4.3f' % reg.score(X2, y))\n",
    "beta_PopSize = reg.coef_\n",
    "\n",
    "print('The intercept is %4.1f' % reg.intercept_)\n",
    "\n",
    "print('Estimated regression coefficient for population size is %4.2f' % beta_PopSize, \n",
    "      'difference in birth rate rating per person.')"
   ]
  },
  {
   "cell_type": "markdown",
   "id": "2bdb0c2c-ade3-49e4-823e-3bac93c05b17",
   "metadata": {},
   "source": [
    "In this case 72.5% of the variance in birth rates can be explained by number of population size.\n",
    "\n",
    "The regression model can be visualised in the scatter plot below."
   ]
  },
  {
   "cell_type": "code",
   "execution_count": 8,
   "id": "3a897c4c-8e13-4f33-a622-af58dde655b2",
   "metadata": {},
   "outputs": [
    {
     "data": {
      "text/plain": [
       "<matplotlib.legend.Legend at 0x7f5fc06bf880>"
      ]
     },
     "execution_count": 8,
     "metadata": {},
     "output_type": "execute_result"
    },
    {
     "data": {
      "image/png": "[encoded data removed]",
      "text/plain": [
       "<Figure size 1080x720 with 1 Axes>"
      ]
     },
     "metadata": {
      "needs_background": "light"
     },
     "output_type": "display_data"
    }
   ],
   "source": [
    "y_hat2 = reg.predict(X2)\n",
    "fig, a = plt.subplots(1,1,figsize=(15,10))\n",
    "actual_values = a.scatter(X2, y,  color='black')\n",
    "a.plot(X2, y_hat2, color='blue', linewidth=3)\n",
    "\n",
    "a.set_xlabel('Population Size')\n",
    "a.set_ylabel('Birth Rate')\n",
    "a.set_title('Regression Model 2: Predicted Birth Rate vs Actual Birth Rate')\n",
    "a.legend([actual_values], ['Actual Values'])"
   ]
  },
  {
   "cell_type": "markdown",
   "id": "a9d4c8e6-6a6a-4767-94aa-0493317be8b5",
   "metadata": {},
   "source": [
    "* When comparing both of these models it seems clear from both the R2 coefficients and the scatter plots that model 2 with population size as the predictors fits better than model 1 with pairs of storks as the predictor.\n",
    "\n",
    "* This can be seen in the scatter plots as the actual values are visibly closer to the regression line for model 2 than they are for model 1.\n",
    "\n",
    "* There is also a difference in the R2 value with the model 2 R2 value being 0.34 bigger than the model 1 R2 value, suggesting that using population size as a predictor creates a better model than using number of pairs of storks as a predictor.\n",
    "\n",
    "* However, to have confidence that the R2 of model 2 is consistently higher than the R2 of model 1, this analysis would need to be done with several different samples. As we don't have access to such samples a bootstrap technique can be used to estimate the distribution of the difference in the R2 parameter between model 1 and model 2, and determine a confidence interval."
   ]
  },
  {
   "cell_type": "markdown",
   "id": "65e73117-93b6-4f51-a021-649f1f260c7a",
   "metadata": {},
   "source": [
    "### 2. C. Bootstrap: Estimate Distribution of the Difference in the R2 parameter."
   ]
  },
  {
   "cell_type": "markdown",
   "id": "e6cce97d-e28c-491f-97db-1079a9cc666a",
   "metadata": {},
   "source": [
    "First a bootstrap function is defined with parameters 'data' (the data set being used), 'cols' (the column names in the output data frame), 'repeats' (how many times the process is run), and 'func' (the function that will be carried out on the samples). The function then resamples the data however many times specified and then the function is carried out on each sample."
   ]
  },
  {
   "cell_type": "code",
   "execution_count": 9,
   "id": "f1cb0f81-aa73-49bd-a2e6-ecfcbab608e8",
   "metadata": {},
   "outputs": [],
   "source": [
    "def bootstrapC(data, cols, repeats, func):\n",
    "    result = pd.DataFrame(data = dict([(c, np.empty(repeats)) for c in cols]))\n",
    "    \n",
    "    for i in range(0, repeats):\n",
    "        result.iloc[i] = func(resample(data))\n",
    "    return result"
   ]
  },
  {
   "cell_type": "markdown",
   "id": "be888b63-d417-4374-a52b-fec85034cdc8",
   "metadata": {},
   "source": [
    "Now the bootstrap method is carried out with the data being resampled 500 times and the function fitting each regression model created earlier to every sample. The output data frame has two columns 'Reg_Score' and 'Reg2_score', containing the R2 scores of model 1 and model 2 (respectively) for each sample. A third column is then added 'R2_diff' which is calculated by subtracting 'Reg_Score' from 'Reg2_score' for each row.\n",
    "\n",
    "The data frame can be seen below."
   ]
  },
  {
   "cell_type": "code",
   "execution_count": 10,
   "id": "59a0d22e-292e-4bed-8535-062f1859d3b8",
   "metadata": {},
   "outputs": [
    {
     "data": {
      "text/html": [
       "<div>\n",
       "<style scoped>\n",
       "    .dataframe tbody tr th:only-of-type {\n",
       "        vertical-align: middle;\n",
       "    }\n",
       "\n",
       "    .dataframe tbody tr th {\n",
       "        vertical-align: top;\n",
       "    }\n",
       "\n",
       "    .dataframe thead th {\n",
       "        text-align: right;\n",
       "    }\n",
       "</style>\n",
       "<table border=\"1\" class=\"dataframe\">\n",
       "  <thead>\n",
       "    <tr style=\"text-align: right;\">\n",
       "      <th></th>\n",
       "      <th>Reg_Score</th>\n",
       "      <th>Reg2_Score</th>\n",
       "      <th>R2_diff</th>\n",
       "    </tr>\n",
       "  </thead>\n",
       "  <tbody>\n",
       "    <tr>\n",
       "      <th>0</th>\n",
       "      <td>0.440460</td>\n",
       "      <td>0.739171</td>\n",
       "      <td>0.298711</td>\n",
       "    </tr>\n",
       "    <tr>\n",
       "      <th>1</th>\n",
       "      <td>0.488441</td>\n",
       "      <td>0.623171</td>\n",
       "      <td>0.134730</td>\n",
       "    </tr>\n",
       "    <tr>\n",
       "      <th>2</th>\n",
       "      <td>0.373397</td>\n",
       "      <td>0.670259</td>\n",
       "      <td>0.296862</td>\n",
       "    </tr>\n",
       "    <tr>\n",
       "      <th>3</th>\n",
       "      <td>0.629283</td>\n",
       "      <td>0.763657</td>\n",
       "      <td>0.134374</td>\n",
       "    </tr>\n",
       "    <tr>\n",
       "      <th>4</th>\n",
       "      <td>0.371354</td>\n",
       "      <td>0.761334</td>\n",
       "      <td>0.389980</td>\n",
       "    </tr>\n",
       "    <tr>\n",
       "      <th>...</th>\n",
       "      <td>...</td>\n",
       "      <td>...</td>\n",
       "      <td>...</td>\n",
       "    </tr>\n",
       "    <tr>\n",
       "      <th>495</th>\n",
       "      <td>0.386563</td>\n",
       "      <td>0.656492</td>\n",
       "      <td>0.269929</td>\n",
       "    </tr>\n",
       "    <tr>\n",
       "      <th>496</th>\n",
       "      <td>0.287553</td>\n",
       "      <td>0.896923</td>\n",
       "      <td>0.609370</td>\n",
       "    </tr>\n",
       "    <tr>\n",
       "      <th>497</th>\n",
       "      <td>0.693505</td>\n",
       "      <td>0.742213</td>\n",
       "      <td>0.048708</td>\n",
       "    </tr>\n",
       "    <tr>\n",
       "      <th>498</th>\n",
       "      <td>0.585968</td>\n",
       "      <td>0.721463</td>\n",
       "      <td>0.135495</td>\n",
       "    </tr>\n",
       "    <tr>\n",
       "      <th>499</th>\n",
       "      <td>0.653097</td>\n",
       "      <td>0.738844</td>\n",
       "      <td>0.085747</td>\n",
       "    </tr>\n",
       "  </tbody>\n",
       "</table>\n",
       "<p>500 rows × 3 columns</p>\n",
       "</div>"
      ],
      "text/plain": [
       "     Reg_Score  Reg2_Score   R2_diff\n",
       "0     0.440460    0.739171  0.298711\n",
       "1     0.488441    0.623171  0.134730\n",
       "2     0.373397    0.670259  0.296862\n",
       "3     0.629283    0.763657  0.134374\n",
       "4     0.371354    0.761334  0.389980\n",
       "..         ...         ...       ...\n",
       "495   0.386563    0.656492  0.269929\n",
       "496   0.287553    0.896923  0.609370\n",
       "497   0.693505    0.742213  0.048708\n",
       "498   0.585968    0.721463  0.135495\n",
       "499   0.653097    0.738844  0.085747\n",
       "\n",
       "[500 rows x 3 columns]"
      ]
     },
     "execution_count": 10,
     "metadata": {},
     "output_type": "execute_result"
    }
   ],
   "source": [
    "def doRegressionR2(df) :\n",
    "    y = df.BirthRateActual\n",
    "    X = df.Storks\n",
    "    X = X.to_numpy(dtype=None, copy=False)\n",
    "    X = X.reshape(-1, 1)\n",
    "    X2 = df.PopulationSize\n",
    "    X2 = X2.to_numpy(dtype=None, copy=False)\n",
    "    X2 = X2.reshape(-1, 1)\n",
    "    reg = LinearRegression().fit(X, y)\n",
    "    reg2 = LinearRegression().fit(X2, y)\n",
    "    return [reg.score(X, y), reg2.score(X2, y)] \n",
    "\n",
    "bstrap = bootstrapC(Storks2, ['Reg_Score', 'Reg2_Score'], 500, doRegressionR2)\n",
    "bstrap = bstrap.assign(R2_diff = bstrap.Reg2_Score - bstrap.Reg_Score)\n",
    "bstrap"
   ]
  },
  {
   "cell_type": "markdown",
   "id": "92c98834-562f-41cd-a48b-a9c3cd8f9302",
   "metadata": {},
   "source": [
    "Now the distribution of each column can be viewed as a histogram below."
   ]
  },
  {
   "cell_type": "code",
   "execution_count": 11,
   "id": "5f5483ad-8211-4cb9-a68e-c6aa54a2d8b8",
   "metadata": {},
   "outputs": [
    {
     "data": {
      "image/png": "[encoded data removed]",
      "text/plain": [
       "<Figure size 576x576 with 4 Axes>"
      ]
     },
     "metadata": {
      "needs_background": "light"
     },
     "output_type": "display_data"
    }
   ],
   "source": [
    "_ = bstrap.hist(figsize=(8,8))\n"
   ]
  },
  {
   "cell_type": "markdown",
   "id": "00af4a6d-e610-41ed-94b9-8422823d4ca6",
   "metadata": {},
   "source": [
    "Now that we have a distribution of the difference in R2 scores of each model, a 90% confidence interval can be taken to determine whether the difference between R2 of model 1 and R2 of model 2 is significant."
   ]
  },
  {
   "cell_type": "code",
   "execution_count": 12,
   "id": "8d001e08-d4fd-4a91-a541-83fc69a32af1",
   "metadata": {},
   "outputs": [
    {
     "name": "stdout",
     "output_type": "stream",
     "text": [
      "The range of a 90% CI for the difference in R2 is from -0.08 to 0.95\n"
     ]
    }
   ],
   "source": [
    "print(\"The range of a 90%% CI for the difference in R2 is from %3.2f to %3.2f\" % \n",
    "      (bstrap.R2_diff.quantile(0.05), bstrap.R2_diff.quantile(0.95)))"
   ]
  },
  {
   "cell_type": "markdown",
   "id": "ad02f385-476f-48a2-aa01-85994a6be92a",
   "metadata": {},
   "source": [
    "As 0 falls within the range of the 90% confidence interval, using this threshold we can not be confident that the R2 of model 2 is higher than the R2 of model 1, meaning that we can not say for sure which model explains more of the variability in the number of births."
   ]
  },
  {
   "cell_type": "markdown",
   "id": "cc139353-8448-4a71-9872-19cf92343d77",
   "metadata": {},
   "source": [
    "## Section 3: Predicting the Number of Storks\n",
    "\n",
    "This section will compare the performance of two regression models to predict the number of storks.\n",
    "\n",
    "The predictor of the first model will be land area and for the second model there will be two predictors, population density and the area of suitable land. Both models will have the outcome variable as number of storks.\n",
    "\n",
    "For a regression analysis to work well, the outcome variable is assumed to be normally distributed, therefore before continuing it is important to view the distribution of the 'Storks' variable as this will be the outcome variable. This distribution can be viewed below."
   ]
  },
  {
   "cell_type": "code",
   "execution_count": 13,
   "id": "9f3ed6b6-b832-4e4d-ac99-b36ad8d5cbd1",
   "metadata": {},
   "outputs": [
    {
     "data": {
      "text/plain": [
       "Text(0.5, 1.0, 'Number of Pairs of Storks Distribution')"
      ]
     },
     "execution_count": 13,
     "metadata": {},
     "output_type": "execute_result"
    },
    {
     "data": {
      "image/png": "[encoded data removed]",
      "text/plain": [
       "<Figure size 432x288 with 1 Axes>"
      ]
     },
     "metadata": {
      "needs_background": "light"
     },
     "output_type": "display_data"
    }
   ],
   "source": [
    "StorkDist = Storks2.loc[:, 'Storks']\n",
    "fig, at = plt.subplots(1, 1)\n",
    "at.hist(StorkDist, bins=10, density=False)\n",
    "_ = at.set_xlabel('Number of Pairs of Storks')\n",
    "_ = at.set_ylabel('Frequency')\n",
    "at.set_title('Number of Pairs of Storks Distribution')"
   ]
  },
  {
   "cell_type": "markdown",
   "id": "7627e90f-b0f5-4078-b6a1-a6d3f715f517",
   "metadata": {},
   "source": [
    "The histogram shows that the Number of Pairs of Storks distribution is positively skewed. This should be kept in mind when interpreting the results."
   ]
  },
  {
   "cell_type": "markdown",
   "id": "9bff94cf-8889-4fda-be24-0f28b8a22032",
   "metadata": {},
   "source": [
    "### 3. A. Regression Model 1: Land Area Predictor\n",
    "\n",
    "A regression line for the first model is fitted with land area as the predictor variable and number of pairs of storks as the outcome variable. The R2 coefficient, the intercept and the estimated regression coefficient are reported below."
   ]
  },
  {
   "cell_type": "code",
   "execution_count": 14,
   "id": "54c449ba-8c8e-4be2-a0a8-38b0b4afc030",
   "metadata": {},
   "outputs": [
    {
     "name": "stdout",
     "output_type": "stream",
     "text": [
      "The R2 coefficient of determination is 0.336\n",
      "The intercept is -60.7\n",
      "Estimated regression coefficient for Land Area Predictor is 0.02 difference in number of pairs of storks per square km.\n"
     ]
    }
   ],
   "source": [
    "y = Storks2.Storks\n",
    "X = np.column_stack(Storks2.Area)\n",
    "X = X.reshape(-1, 1)\n",
    "reg = LinearRegression().fit(X, y)\n",
    "\n",
    "print('The R2 coefficient of determination is %4.3f' % reg.score(X, y))\n",
    "beta_Area = reg.coef_\n",
    "\n",
    "print('The intercept is %4.1f' % reg.intercept_)\n",
    "\n",
    "print('Estimated regression coefficient for Land Area Predictor is %4.2f' % beta_Area, \n",
    "      'difference in number of pairs of storks per square km.')"
   ]
  },
  {
   "cell_type": "markdown",
   "id": "1378d909-da65-41e0-9f4d-c6ceace22130",
   "metadata": {},
   "source": [
    "As this analysis is specifically looking at the performance of these two models it is important to take the error into consideration when evaluating the performance of the models. Below is the distribution of the errors between the predicted and actual number of storks."
   ]
  },
  {
   "cell_type": "code",
   "execution_count": 15,
   "id": "b694cc39-b12c-407f-abd8-b0637a907422",
   "metadata": {},
   "outputs": [
    {
     "data": {
      "image/png": "[encoded data removed]",
      "text/plain": [
       "<Figure size 432x288 with 1 Axes>"
      ]
     },
     "metadata": {
      "needs_background": "light"
     },
     "output_type": "display_data"
    }
   ],
   "source": [
    "y_hat = reg.predict(X)\n",
    "\n",
    "fig, a1 = plt.subplots(1, 1)\n",
    "residuals = y_hat - y\n",
    "a1.hist(residuals, bins=10, density=True)\n",
    "_ = a1.set_xlabel('Error in prediction: predicted - actual Number of Storks')"
   ]
  },
  {
   "cell_type": "markdown",
   "id": "dd179218-1b5a-467d-b4c2-019b3baab4c2",
   "metadata": {},
   "source": [
    "Here we see that the range of errors is approximately normal. From this the regression model can be visualised in the scatter plot below."
   ]
  },
  {
   "cell_type": "code",
   "execution_count": 16,
   "id": "2321b24b-fe8e-4bdb-9c18-d50d7f78d5cf",
   "metadata": {},
   "outputs": [
    {
     "data": {
      "text/plain": [
       "Text(0, 0.5, 'Actual Value')"
      ]
     },
     "execution_count": 16,
     "metadata": {},
     "output_type": "execute_result"
    },
    {
     "data": {
      "image/png": "[encoded data removed]",
      "text/plain": [
       "<Figure size 1080x720 with 1 Axes>"
      ]
     },
     "metadata": {
      "needs_background": "light"
     },
     "output_type": "display_data"
    }
   ],
   "source": [
    "# Plot outputs\n",
    "fig, a = plt.subplots(1,1,figsize=(15,10))\n",
    "a.scatter(X, y,  color='black')\n",
    "a.plot(X, y_hat, color='blue', linewidth=3)\n",
    "\n",
    "# two_std = residuals.std() * 2\n",
    "# a.errorbar(y_hat, y, yerr=two_std, fmt='.k')\n",
    "\n",
    "a.set_xlabel('Predicted Value')\n",
    "a.set_ylabel('Actual Value')"
   ]
  },
  {
   "cell_type": "markdown",
   "id": "84521b6c-6d35-43b0-95a6-be6609a3dd5e",
   "metadata": {},
   "source": [
    "Now the root of the mean squared error can be calculated."
   ]
  },
  {
   "cell_type": "code",
   "execution_count": 17,
   "id": "6699e191-c980-46df-b300-e39c8981afff",
   "metadata": {},
   "outputs": [
    {
     "name": "stdout",
     "output_type": "stream",
     "text": [
      "Root of the mean squared error: 6984.77\n"
     ]
    }
   ],
   "source": [
    "print('Root of the mean squared error: %.2f'% mean_squared_error(y, y_hat, squared=False))"
   ]
  },
  {
   "cell_type": "markdown",
   "id": "c6dfcb8a-3c91-4504-bbd6-f985791d0b7e",
   "metadata": {},
   "source": [
    "### 3. B. Regression Model 2: Suitable Area and Population Density Predictors\n",
    "\n",
    "A regression line for the second model is fitted with suitable area and population density as predictor variables and number of pairs of storks as the outcome variable. The R2 coefficient, the intercept and the estimated regression coefficient are reported below."
   ]
  },
  {
   "cell_type": "code",
   "execution_count": 18,
   "id": "81e672f2-2490-413e-9f86-e4e4ed2ba7d4",
   "metadata": {},
   "outputs": [
    {
     "name": "stdout",
     "output_type": "stream",
     "text": [
      "The R2 coefficient of determination is 0.393\n",
      "The intercept is 1881.4\n",
      "Estimated regression coefficient for SuitableArea is 0.04 difference in number of pairs of storks per square km.\n",
      "Estimated regression coefficient for population dnesity is -12.13 difference in number of pairs of storks per person per square km.\n"
     ]
    }
   ],
   "source": [
    "y = Storks2.Storks\n",
    "X2 = np.column_stack((Storks2.SuitableArea, Storks2.PopulationDensity))\n",
    "reg = LinearRegression().fit(X2, y)\n",
    "\n",
    "\n",
    "print('The R2 coefficient of determination is %4.3f' % reg.score(X2, y))\n",
    "beta_SuitableArea,  beta_Humans = reg.coef_\n",
    "\n",
    "print('The intercept is %4.1f' % reg.intercept_)\n",
    "\n",
    "print('Estimated regression coefficient for SuitableArea is %4.2f' % beta_SuitableArea, \n",
    "      'difference in number of pairs of storks per square km.')\n",
    "\n",
    "print('Estimated regression coefficient for population dnesity is %4.2f' % beta_Humans, \n",
    "      'difference in number of pairs of storks per person per square km.')"
   ]
  },
  {
   "cell_type": "markdown",
   "id": "5a6c472d-4d26-40ad-91f0-d9aaf922a0a3",
   "metadata": {},
   "source": [
    "Below is the distribution of the errors between the predicted and actual number of storks."
   ]
  },
  {
   "cell_type": "code",
   "execution_count": 19,
   "id": "ae8ebf57-1c5e-45f4-abe0-cc7efbbd89b2",
   "metadata": {},
   "outputs": [
    {
     "data": {
      "image/png": "[encoded data removed]",
      "text/plain": [
       "<Figure size 432x288 with 1 Axes>"
      ]
     },
     "metadata": {
      "needs_background": "light"
     },
     "output_type": "display_data"
    }
   ],
   "source": [
    "y_hat = reg.predict(X2)\n",
    "\n",
    "fig, a1 = plt.subplots(1, 1)\n",
    "residuals = y_hat - y\n",
    "a1.hist(residuals, bins=10, density=True)\n",
    "_ = a1.set_xlabel('Error in prediction: predicted - actual number of storks')"
   ]
  },
  {
   "cell_type": "markdown",
   "id": "219f74a1-90b1-4583-bb3f-5f94fe824b4b",
   "metadata": {},
   "source": [
    "Here we see that the range of errors is approximately normal. From this the regression model can be visualised in the scatter plot below."
   ]
  },
  {
   "cell_type": "code",
   "execution_count": 20,
   "id": "d1abedfa-7fca-45f8-bc8c-bd4072c2c56b",
   "metadata": {},
   "outputs": [
    {
     "data": {
      "text/plain": [
       "Text(0, 0.5, 'Actual Value')"
      ]
     },
     "execution_count": 20,
     "metadata": {},
     "output_type": "execute_result"
    },
    {
     "data": {
      "image/png": "[encoded data removed]",
      "text/plain": [
       "<Figure size 1080x720 with 1 Axes>"
      ]
     },
     "metadata": {
      "needs_background": "light"
     },
     "output_type": "display_data"
    }
   ],
   "source": [
    "# Plot outputs\n",
    "fig, a = plt.subplots(1,1,figsize=(15,10))\n",
    "a.scatter(y_hat, y,  color='black')\n",
    "a.plot(y_hat, y_hat, color='blue', linewidth=3)\n",
    "\n",
    "# two_std = residuals.std() * 2\n",
    "# a.errorbar(y_hat, y, yerr=two_std, fmt='.k')\n",
    "\n",
    "a.set_xlabel('Predicted Value')\n",
    "a.set_ylabel('Actual Value')"
   ]
  },
  {
   "cell_type": "markdown",
   "id": "39100204-6704-4e5f-add3-c61dbf44934f",
   "metadata": {},
   "source": [
    "Now the root of the mean squared error can be calculated,"
   ]
  },
  {
   "cell_type": "code",
   "execution_count": 21,
   "id": "73b9bd0f-e2ee-4ca7-a1a9-dfc86f31b345",
   "metadata": {},
   "outputs": [
    {
     "name": "stdout",
     "output_type": "stream",
     "text": [
      "Root of the mean squared error: 6677.03\n"
     ]
    }
   ],
   "source": [
    "print('Root of the mean squared error: %.2f'% mean_squared_error(y, y_hat, squared=False))"
   ]
  },
  {
   "cell_type": "markdown",
   "id": "53c64d0d-80f9-4f20-8980-6b02eade45af",
   "metadata": {},
   "source": [
    "Now that we have calculated the RMSE (root of the mean squared error) for both models, these metrics can be compared.\n",
    "\n",
    "* Model 1 has an RMSE of 6984.77, while model 2 has an RMSE of 6677.03. This suggests that as the mean error is lower for model 2 than model 1, the performance of the regression model 2 is better than that of the regression model 1 at predicting the number of storks.\n",
    "\n",
    "* This suggests that 'Suitable Area' and 'Population Density' are better predictors than 'Land Area'.\n",
    "\n",
    "* However, to have confidence in this result this analysis would need to be done with several different samples. As we don't have access to such samples a bootstrap technique can be used to estimate the distribution of the difference in the RMSE parameter between model 1 and model 2, and determine a confidence interval."
   ]
  },
  {
   "cell_type": "markdown",
   "id": "cefbaaa0-a83f-44ef-a22c-f9514c5a3c90",
   "metadata": {},
   "source": [
    "### 3. C. Bootstrap: Estimate Distribution of the Difference in the RMSE parameter.\n",
    "\n",
    "As a bootstrap function has already been defined, this function can be used to resample, execute a function and create a data frame of the results. However, a new function is defined to return the RMSE value of both models for each sample. These values can be seen in the data frame produced with the column 'RMSE' containing the RMSE values for model 1 and RMSE_2 containing the RMSE values for model 2. A final column RMSE_Diff shows the difference in the RMSE values for each sample. This is calculated by subtracting RMSE2 from RMSE. This data frame can be seen below.\n"
   ]
  },
  {
   "cell_type": "code",
   "execution_count": 22,
   "id": "b1e4361a-49ff-4892-a797-1f4832fee47e",
   "metadata": {},
   "outputs": [
    {
     "data": {
      "text/html": [
       "<div>\n",
       "<style scoped>\n",
       "    .dataframe tbody tr th:only-of-type {\n",
       "        vertical-align: middle;\n",
       "    }\n",
       "\n",
       "    .dataframe tbody tr th {\n",
       "        vertical-align: top;\n",
       "    }\n",
       "\n",
       "    .dataframe thead th {\n",
       "        text-align: right;\n",
       "    }\n",
       "</style>\n",
       "<table border=\"1\" class=\"dataframe\">\n",
       "  <thead>\n",
       "    <tr style=\"text-align: right;\">\n",
       "      <th></th>\n",
       "      <th>RMSE</th>\n",
       "      <th>RMSE2</th>\n",
       "      <th>RMSE_Diff</th>\n",
       "    </tr>\n",
       "  </thead>\n",
       "  <tbody>\n",
       "    <tr>\n",
       "      <th>0</th>\n",
       "      <td>6022.829049</td>\n",
       "      <td>5810.741852</td>\n",
       "      <td>212.087197</td>\n",
       "    </tr>\n",
       "    <tr>\n",
       "      <th>1</th>\n",
       "      <td>6274.789303</td>\n",
       "      <td>5985.767851</td>\n",
       "      <td>289.021452</td>\n",
       "    </tr>\n",
       "    <tr>\n",
       "      <th>2</th>\n",
       "      <td>2328.854969</td>\n",
       "      <td>2081.438814</td>\n",
       "      <td>247.416155</td>\n",
       "    </tr>\n",
       "    <tr>\n",
       "      <th>3</th>\n",
       "      <td>8072.547091</td>\n",
       "      <td>7760.813989</td>\n",
       "      <td>311.733102</td>\n",
       "    </tr>\n",
       "    <tr>\n",
       "      <th>4</th>\n",
       "      <td>2913.211336</td>\n",
       "      <td>2408.027779</td>\n",
       "      <td>505.183557</td>\n",
       "    </tr>\n",
       "    <tr>\n",
       "      <th>...</th>\n",
       "      <td>...</td>\n",
       "      <td>...</td>\n",
       "      <td>...</td>\n",
       "    </tr>\n",
       "    <tr>\n",
       "      <th>495</th>\n",
       "      <td>6785.426945</td>\n",
       "      <td>6516.012821</td>\n",
       "      <td>269.414124</td>\n",
       "    </tr>\n",
       "    <tr>\n",
       "      <th>496</th>\n",
       "      <td>5901.815628</td>\n",
       "      <td>5414.182361</td>\n",
       "      <td>487.633267</td>\n",
       "    </tr>\n",
       "    <tr>\n",
       "      <th>497</th>\n",
       "      <td>8728.761274</td>\n",
       "      <td>8460.639324</td>\n",
       "      <td>268.121950</td>\n",
       "    </tr>\n",
       "    <tr>\n",
       "      <th>498</th>\n",
       "      <td>8662.358215</td>\n",
       "      <td>8284.654587</td>\n",
       "      <td>377.703629</td>\n",
       "    </tr>\n",
       "    <tr>\n",
       "      <th>499</th>\n",
       "      <td>1761.639946</td>\n",
       "      <td>1445.772449</td>\n",
       "      <td>315.867497</td>\n",
       "    </tr>\n",
       "  </tbody>\n",
       "</table>\n",
       "<p>500 rows × 3 columns</p>\n",
       "</div>"
      ],
      "text/plain": [
       "            RMSE        RMSE2   RMSE_Diff\n",
       "0    6022.829049  5810.741852  212.087197\n",
       "1    6274.789303  5985.767851  289.021452\n",
       "2    2328.854969  2081.438814  247.416155\n",
       "3    8072.547091  7760.813989  311.733102\n",
       "4    2913.211336  2408.027779  505.183557\n",
       "..           ...          ...         ...\n",
       "495  6785.426945  6516.012821  269.414124\n",
       "496  5901.815628  5414.182361  487.633267\n",
       "497  8728.761274  8460.639324  268.121950\n",
       "498  8662.358215  8284.654587  377.703629\n",
       "499  1761.639946  1445.772449  315.867497\n",
       "\n",
       "[500 rows x 3 columns]"
      ]
     },
     "execution_count": 22,
     "metadata": {},
     "output_type": "execute_result"
    }
   ],
   "source": [
    "def doRegressionRMSE(df) :\n",
    "    y = df.Storks\n",
    "    X = np.column_stack(df.Area)\n",
    "    X = X.reshape(-1, 1)\n",
    "    X2 = np.column_stack((df.SuitableArea, df.PopulationDensity))\n",
    "    reg2 = LinearRegression().fit(X2, y)\n",
    "    reg = LinearRegression().fit(X, y)\n",
    "    y_hat = reg.predict(X)\n",
    "    y_hat2 = reg2.predict(X2)\n",
    "    return [mean_squared_error(y, y_hat, squared=False), mean_squared_error(y, y_hat2, squared=False)]\n",
    "\n",
    "bstrap = bootstrapC(Storks2, ['RMSE', 'RMSE2'], 500, doRegressionRMSE)\n",
    "bstrap = bstrap.assign(RMSE_Diff = bstrap.RMSE - bstrap.RMSE2)\n",
    "bstrap"
   ]
  },
  {
   "cell_type": "markdown",
   "id": "a03ffcbd-da79-4ddc-9589-2aa56289b40e",
   "metadata": {},
   "source": [
    "Now the distributions of the RMSE, RMSE2, and RMSE_Diff are created and can be seen below."
   ]
  },
  {
   "cell_type": "code",
   "execution_count": 23,
   "id": "75f8c46c-c33b-42d3-9135-2ba191e46636",
   "metadata": {},
   "outputs": [
    {
     "data": {
      "image/png": "[encoded data removed]",
      "text/plain": [
       "<Figure size 576x576 with 4 Axes>"
      ]
     },
     "metadata": {
      "needs_background": "light"
     },
     "output_type": "display_data"
    }
   ],
   "source": [
    "_ = bstrap.hist(figsize=(8,8))"
   ]
  },
  {
   "cell_type": "markdown",
   "id": "b2c3330c-6d2c-468b-8aeb-fe92439f1958",
   "metadata": {},
   "source": [
    "A 90% confidence interval of the difference in the RMSE between the two models can now be taken."
   ]
  },
  {
   "cell_type": "code",
   "execution_count": 24,
   "id": "eec76744-b902-4114-8cfd-4cc11f54655d",
   "metadata": {},
   "outputs": [
    {
     "name": "stdout",
     "output_type": "stream",
     "text": [
      "The range of a 90% CI for the difference in RMSE is from 108.19 to 699.65\n"
     ]
    }
   ],
   "source": [
    "print(\"The range of a 90%% CI for the difference in RMSE is from %3.2f to %3.2f\" % \n",
    "      (bstrap.RMSE_Diff.quantile(0.05), bstrap.RMSE_Diff.quantile(0.95)))"
   ]
  },
  {
   "cell_type": "markdown",
   "id": "67f64839-b8a7-4790-a7b5-784f9fc98fe3",
   "metadata": {},
   "source": [
    "As 0 does not fall within the range of the 90% confidence interval, using this threshold we can be confident that the RMSE of model 2 is lower than the RMSE of model 1, meaning that we can confidently say that the performance of the regression model 2 is better than that of the regression model 1 at predicting the number of storks. This tells us that 'Suitable Area' and 'Population Density' are better predictors of the number of storks than 'Land Area'."
   ]
  },
  {
   "cell_type": "markdown",
   "id": "0058ed28-8766-4bea-8420-f86f96a8bedd",
   "metadata": {},
   "source": [
    "### 3. D. Conclusion\n",
    "\n",
    "* With a 90% confidence interval we can not be confident that the R2 of model 2 is higher than the R2 of model 1, meaning that we can not say for sure which model explains more of the variability in the number of births.\n",
    "\n",
    "* With a 90% confidence interval we can be confident that the RMSE of model 2 is lower than the RMSE of model 1, meaning that we can confidently say that the performance of the regression model 2 is better than that of the regression model 1 at predicting the number of storks. This tells us that 'Suitable Area' and 'Population Density' are better predictors of the number of storks than 'Land Area'."
   ]
  },
  {
   "cell_type": "markdown",
   "id": "083feb6f-f376-4ff5-bbd7-a00e716d8371",
   "metadata": {},
   "source": [
    "### Section 4: References\n",
    "\n",
    "Robert Matthews. “Storks Deliver Babies (p = 0.008)”. Teaching Statistics. Volume 22, Number 2, Summer 2000, p36-8."
   ]
  }
 ],
 "metadata": {
  "kernelspec": {
   "display_name": "Python 3 (ipykernel)",
   "language": "python",
   "name": "python3"
  },
  "language_info": {
   "codemirror_mode": {
    "name": "ipython",
    "version": 3
   },
   "file_extension": ".py",
   "mimetype": "text/x-python",
   "name": "python",
   "nbconvert_exporter": "python",
   "pygments_lexer": "ipython3",
   "version": "3.9.6"
  }
 },
 "nbformat": 4,
 "nbformat_minor": 5
}
